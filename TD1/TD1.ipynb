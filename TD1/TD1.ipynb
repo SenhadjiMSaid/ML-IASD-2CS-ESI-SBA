{
 "cells": [
  {
   "cell_type": "markdown",
   "metadata": {},
   "source": [
    "<img src=\"header.png\"/>"
   ]
  },
  {
   "cell_type": "markdown",
   "metadata": {},
   "source": [
    "<h1>TD1</h1>"
   ]
  },
  {
   "cell_type": "markdown",
   "metadata": {
    "vscode": {
     "languageId": "plaintext"
    }
   },
   "source": [
    "# Exercice 1: Basics\n",
    "1. A programmer wants to write a program that uses the frequency of words such as \"science,\"\n",
    "\"public,\" \"access,\" \"university,\" \"government,\" \"finance,\" \"education,\" \"budget,\" \"justice,\" and\n",
    "\"law\" to determine whether an article is about science policy or not. he started by annotating a\n",
    "thousand articles based on their subject. What kind of machine learning problem does she need\n",
    "to solve?\n",
    "2. A person has 10000 newspaper articles that he wants to categorize by their topic. Should he use\n",
    "a supervised or unsupervised algorithm?\n",
    "3. A person wants to examine it spam emails to determine if there are subtypes of spam. What\n",
    "type of machine learning algorithm should they use?"
   ]
  },
  {
   "cell_type": "markdown",
   "metadata": {},
   "source": [
    "## Solution EX 1"
   ]
  },
  {
   "cell_type": "markdown",
   "metadata": {},
   "source": [
    "1. This is a Supervised Classification problem.\n",
    "   the task is to predict a binary label (yes or no), making it a classification problem.\n",
    "2. The person should use an Unsupervised Algorithm.\n",
    "3. The person should use an Unsupervised Algorithm.\n"
   ]
  },
  {
   "cell_type": "markdown",
   "metadata": {},
   "source": [
    "# Exercise 2: Simple Linear Regression\n",
    "The table shows the respective weights of fathers and their eldest sons:\n",
    "\n",
    "![image.png](table_ex1.png)\n",
    "\n",
    "1-  Estimate the values of the parameters $ \\^{\\beta_0 }$ and $ \\^{\\beta_1 } $ for the weight of sons based on the weight of fathers\n",
    "\n",
    "2- Estimate the weight of a son that his father weighs 80 kg\n",
    "3- Compute the Mean Absolute Error (MAE) and Root Mean Square Error (RMSE) of the generated\n",
    "model"
   ]
  },
  {
   "cell_type": "markdown",
   "metadata": {},
   "source": [
    "## Solution to Exercise 2: Simple Linear Regression\n"
   ]
  },
  {
   "cell_type": "markdown",
   "metadata": {},
   "source": [
    "\n",
    "Given data:\n",
    "\n",
    "| Father | 65 | 63 | 67 | 64 | 68 | 62 | 70 | 66 | 68 | 67 | 69 | 71 |\n",
    "|--------|----|----|----|----|----|----|----|----|----|----|----|----|\n",
    "| Son    | 68 | 66 | 68 | 65 | 69 | 66 | 68 | 65 | 71 | 67 | 68 | 70 |\n",
    "\n",
    "#### 1. Estimated values of the parameters $ \\widehat{\\beta_0} $ and $ \\widehat{\\beta_1} $\n",
    "\n",
    "$$ \\widehat{\\beta_1} = \\frac{\\sum{(x_i-\\bar{x})(y_i - \\bar{y})}}{\\sum{(x_i - \\bar{x})²}},  \\ \\widehat{\\beta_0} = \\bar{y} - \\beta_1\\bar{x} $$\n",
    "\n",
    "where $ \\bar{x} $ and $ \\bar{y} $ are the means of the father's age and son's age respectively.\n",
    "\n",
    "$ \\bar{x} = 66.6667 $ and  $ \\bar{y} = 67.5833 $\n",
    "\n",
    "So:\n",
    "\n",
    "* $ \\widehat{\\beta_1} = 0.4764 $ \n",
    "* $ \\widehat{\\beta_0} = 35.8033 $\n",
    "\n",
    "Finaly the linear regression model is:\n",
    "\n",
    " $ \\hat{y} = \\beta_0 + \\beta_1 x $\n",
    " \n",
    " $ \\hat{y} = 35.8033 + 0.4764x $ \n",
    "\n"
   ]
  },
  {
   "cell_type": "markdown",
   "metadata": {},
   "source": [
    "#### 2. Estimate the weight of a son given that his father weighs 80 kg\n",
    "\n",
    "Using the estimated $𝛽_0$ and $𝛽_1$ from Q1, we’ll predict the son's weight by substituting $𝑥=80$ into the linear regression equation.\n",
    "$$\n",
    "\\text{Predicted son’s weight} = 73.9153 kg\n",
    "$$"
   ]
  },
  {
   "cell_type": "markdown",
   "metadata": {},
   "source": [
    "#### 3.Compute the Mean Absolute Error (MAE) and Root Mean Square Error (RMSE)\n",
    "\n",
    "These error metrics evaluate the model’s performance on the given data:\n",
    "* **Mean Absolute Error (MAE):**\n",
    "$$ \\text{MAE} = \\frac{1}{n}\\sum_{j=1}^n{|y_j - \\hat{y}_j|}  $$\n",
    "\n",
    "* **Root Mean Square Error (RMSE):**\n",
    "$$ \\text{RMSE} = \\sqrt{\\frac{1}{n} \\sum_{j=1}^n{(y_j - \\hat{y}_j)²}} $$\n",
    "\n",
    "$n$ is the number of observations, $𝑦_𝑗$ is the true value for the observation j and $\\hat{y}_j$ is the predicted value\n",
    "\n",
    "So: \n",
    "\n",
    "| $x_i$       | 65      | 63      | 67      | 64      | 68      | 62      | 70      | 66      | 68      | 67      | 69      | 71      |\n",
    "|-------------|----|----|----|----|----|----|----|----|----|----|----|----|\n",
    "| $y_i$       | 68      | 66      | 68      | 65      | 69      | 66      | 68      | 65      | 71      | 67      | 68      | 70      |\n",
    "| $\\hat{y}_j$ | 66.7693 | 65.8165 | 67.7221 | 66.2929 | 68.1985 | 65.3401 | 69.1513 | 67.2457 | 68.1985 | 67.7221 | 68.6749 | 69.6277 |\n",
    "\n",
    "\n",
    "So:\n",
    "\n",
    "$ \\text{MAE} = 1.0114 $ and $ RMSE = 1.2959 $\n",
    "\n"
   ]
  },
  {
   "cell_type": "markdown",
   "metadata": {},
   "source": [
    "# Exercise 3: Simple Linear Regression with Gradient descent .\n",
    "1. Initialize the parameters  $ \\widehat{\\beta_0} $ and $ \\widehat{\\beta_1} $ with the values of the previous exercise.\n",
    "2. Using a learning rate $ \\alpha = 0.1 $ compute the new parameters $ \\widehat{\\beta_0} $ and $ \\widehat{\\beta_1} $ in the first iteration\n",
    "3. Compute the Mean Absolute Error (MAE). What do you observe?\n"
   ]
  },
  {
   "cell_type": "markdown",
   "metadata": {},
   "source": [
    "## Solution to Exercise 3: Simple Linear Regression with Gradient descent .\n"
   ]
  },
  {
   "cell_type": "markdown",
   "metadata": {},
   "source": [
    "#### 1.Initialize the parameters  $ \\widehat{\\beta_0} $ and $ \\widehat{\\beta_1} $ with the values of the previous exercise."
   ]
  },
  {
   "cell_type": "markdown",
   "metadata": {},
   "source": [
    "From Exercise 2, we have:\n",
    "* $ \\widehat{\\beta_1} = 0.4764 $ \n",
    "* $ \\widehat{\\beta_0} = 35.8033 $"
   ]
  },
  {
   "cell_type": "markdown",
   "metadata": {},
   "source": [
    "#### 2.Using a learning rate $ \\alpha = 0.1 $ compute the new parameters $ \\widehat{\\beta_0} $ and $ \\widehat{\\beta_1} $ in the first iteration\n",
    "\n",
    "The gradient descent update rules for a linear regression model are as follows:\n",
    "$$ \\widehat{\\beta_0} := \\widehat{\\beta_0} - \\alpha . \\frac{\\partial J}{\\partial \\beta_0} $$\n",
    "$$ \\widehat{\\beta_1} := \\widehat{\\beta_0} - \\alpha . \\frac{\\partial J}{\\partial \\beta_1} $$\n",
    "where:\n",
    "* $J$ is is the cost function, \n",
    "$$ \\begin{align*} J(\\beta_0, \\beta_1) &= \\frac{1}{2n} \\sum_{i=0}^n{(f(x_i) -y_i)²} \\\\ &= \\frac{1}{2n} \\sum_{i=0}^n{(\\beta_0 + \\beta_1.x_i -y_i)²} \\end{align*} $$\n",
    "* $ \\alpha $ is the learning rate\n",
    "\n",
    "partial derivatives :\n",
    "\n",
    "$$  \\frac{\\partial J}{\\partial \\beta_0} = \\frac{1}{n}{\\sum_{i=0}^n{(\\beta_0 + \\beta_1.x_i -y_i)}} $$\n",
    "$$  \\frac{\\partial J}{\\partial \\beta_1} = \\frac{1}{n}{\\sum_{i=0}^n{(\\beta_0 + \\beta_1.x_i -y_i)x_i}} $$\n",
    "\n",
    "\n",
    "We have $n=12$, $\\alpha =0.1$ and \n",
    "| $x_i$       | 65      | 63      | 67      | 64      | 68      | 62      | 70      | 66      | 68      | 67      | 69      | 71      |\n",
    "|-------------|----|----|----|----|----|----|----|----|----|----|----|----|\n",
    "| $y_i$       | 68      | 66      | 68      | 65      | 69      | 66      | 68      | 65      | 71      | 67      | 68      | 70      |\n",
    "| $f(x_i)$ | 66.7693 | 65.8165 | 67.7221 | 66.2929 | 68.1985 | 65.3401 | 69.1513 | 67.2457 | 68.1985 | 67.7221 | 68.6749 | 69.6277 |\n",
    "\n",
    "So:\n",
    "\n",
    "* $ \\beta_0^{(1)} = 35.8094 $\n",
    "* $ \\beta_1^{(1)} = 0.6099 $\n",
    "\n",
    "so finaly:\n",
    "\n",
    "$ \\hat{y}_i^{(1)} = f^{(1)}(x_i) = \\beta_0^{(1)} + \\beta_1^{(1)}x_i =  35.8094 + 0.6099x_i $\n",
    "\n",
    "| $x_i$       | 65      | 63      | 67      | 64      | 68      | 62      | 70      | 66      | 68      | 67      | 69      | 71      |\n",
    "|-------------|----|----|----|----|----|----|----|----|----|----|----|----|\n",
    "| $y_i$       | 68      | 66      | 68      | 65      | 69      | 66      | 68      | 65      | 71      | 67      | 68      | 70      |\n",
    "| $f(x_i)$ | 66.7693 | 65.8165 | 67.7221 | 66.2929 | 68.1985 | 65.3401 | 69.1513 | 67.2457 | 68.1985 | 67.7221 | 68.6749 | 69.6277 |\n",
    "| $f^{(1)}(x_i)$ | 66.7693 | 65.8165 | 67.7221 | 66.2929 | 68.1985 | 65.3401 | 69.1513 | 67.2457 | 68.1985 | 67.7221 | 68.6749 | 69.6277 |"
   ]
  },
  {
   "cell_type": "markdown",
   "metadata": {},
   "source": [
    "#### 3.Compute the Mean Absolute Error (MAE). What do you observe?\n",
    "\n"
   ]
  }
 ],
 "metadata": {
  "language_info": {
   "name": "python"
  }
 },
 "nbformat": 4,
 "nbformat_minor": 2
}
