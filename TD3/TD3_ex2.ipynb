{
 "cells": [
  {
   "cell_type": "code",
   "execution_count": 1,
   "metadata": {},
   "outputs": [],
   "source": [
    "import numpy as np\n",
    "import matplotlib.pyplot as plt"
   ]
  },
  {
   "cell_type": "markdown",
   "metadata": {},
   "source": [
    "# TD2 Exercise 2: K-means"
   ]
  },
  {
   "cell_type": "markdown",
   "metadata": {},
   "source": [
    "**Data Points:**\n",
    "- $A_1 = (2, 10)$\n",
    "- $A_2 = (2, 5)$\n",
    "- $A_3 = (8, 4)$\n",
    "- $A_4 = (5, 8)$\n",
    "- $A_5 = (7, 5)$\n",
    "- $A_6 = (6, 4)$\n",
    "- $A_7 = (1, 2)$\n",
    "- $A_8 = (4, 9)$\n",
    "\n",
    "**Initial Centroids:**\n",
    "- Cluster 1: $A_1 = (2, 10)$\n",
    "- Cluster 2: $A_4 = (5, 8)$\n",
    "- Cluster 1: $A_7 = (1, 2)$\n",
    "\n",
    "**Iteration Steps:**\n",
    "1. **Assign Points to Clusters**: Calculate the Euclidean distance between each point and the centroids. Assign each point to the cluster of the nearest centroid.\n",
    "2. **Update Centroids**: Compute the mean of all points in each cluster to update the centroids.\n",
    "3. Repeat Steps 1 and 2 until the clusters stabilize (i.e., no points change clusters).\n"
   ]
  },
  {
   "cell_type": "code",
   "execution_count": 2,
   "metadata": {},
   "outputs": [],
   "source": [
    "# Data points\n",
    "points = np.array([\n",
    "    [2, 10],  # A1\n",
    "    [2, 5],   # A2\n",
    "    [8, 4],   # A3\n",
    "    [5, 8],   # A4\n",
    "    [7, 5],   # A5\n",
    "    [6, 4],   # A6\n",
    "    [1, 2],   # A7\n",
    "    [4, 9]    # A8\n",
    "])\n",
    "\n",
    "# Initial centroids (A1, A4, A7)\n",
    "centroids = np.array([\n",
    "    [2, 10],  \n",
    "    [5, 8],  \n",
    "    [1, 2]  \n",
    "])"
   ]
  },
  {
   "cell_type": "code",
   "execution_count": 3,
   "metadata": {},
   "outputs": [],
   "source": [
    "def euclidean_distance(point, centroid):\n",
    "    return np.sqrt(np.sum((point - centroid)**2))"
   ]
  },
  {
   "cell_type": "code",
   "execution_count": 4,
   "metadata": {},
   "outputs": [
    {
     "name": "stdout",
     "output_type": "stream",
     "text": [
      "\n",
      "Iteration 1:\n",
      "Cluster 1: [array([ 2, 10])]\n",
      "Cluster 2: [array([8, 4]), array([5, 8]), array([7, 5]), array([6, 4]), array([4, 9])]\n",
      "Cluster 3: [array([2, 5]), array([1, 2])]\n",
      "\n",
      "Iteration 2:\n",
      "Cluster 1: [array([ 2, 10]), array([4, 9])]\n",
      "Cluster 2: [array([8, 4]), array([5, 8]), array([7, 5]), array([6, 4])]\n",
      "Cluster 3: [array([2, 5]), array([1, 2])]\n",
      "\n",
      "Iteration 3:\n",
      "Cluster 1: [array([ 2, 10]), array([5, 8]), array([4, 9])]\n",
      "Cluster 2: [array([8, 4]), array([7, 5]), array([6, 4])]\n",
      "Cluster 3: [array([2, 5]), array([1, 2])]\n",
      "\n",
      "Iteration 4:\n",
      "Cluster 1: [array([ 2, 10]), array([5, 8]), array([4, 9])]\n",
      "Cluster 2: [array([8, 4]), array([7, 5]), array([6, 4])]\n",
      "Cluster 3: [array([2, 5]), array([1, 2])]\n",
      "\n",
      "Centroids have converged.\n",
      "\n",
      "Final Centroids: [[3.66666667 9.        ]\n",
      " [7.         4.33333333]\n",
      " [1.5        3.5       ]]\n"
     ]
    }
   ],
   "source": [
    "def euclidean_distance(point, centroid):\n",
    "    return np.sqrt(np.sum((point - centroid)**2))\n",
    "\n",
    "# K-means algorithm with detailed iterations\n",
    "max_iterations = 10\n",
    "for iteration in range(max_iterations):\n",
    "    print(f\"\\nIteration {iteration + 1}:\")\n",
    "    \n",
    "    # Step 1: Assign points to the nearest centroid\n",
    "    clusters = {i: [] for i in range(len(centroids))}  # Create empty clusters\n",
    "    for point_idx, point in enumerate(points):\n",
    "        distances = [euclidean_distance(point, centroid) for centroid in centroids]\n",
    "        closest_centroid = np.argmin(distances)\n",
    "        clusters[closest_centroid].append(point_idx)\n",
    "    \n",
    "    for cluster_idx, cluster_points in clusters.items():\n",
    "        print(f\"Cluster {cluster_idx + 1}: {[points[i] for i in cluster_points]}\")\n",
    "\n",
    "    # Step 2: Recalculate centroids\n",
    "    new_centroids = []\n",
    "    for cluster_points in clusters.values():\n",
    "        if cluster_points:  # Avoid empty cluster\n",
    "            cluster_mean = np.mean(points[cluster_points], axis=0)\n",
    "            new_centroids.append(cluster_mean)\n",
    "        else:\n",
    "            new_centroids.append(centroids[len(new_centroids)])  # Keep the previous centroid\n",
    "    new_centroids = np.array(new_centroids)\n",
    "    \n",
    "    # Step 3: Check for convergence\n",
    "    if np.allclose(new_centroids, centroids):\n",
    "        print(\"\\nCentroids have converged.\")\n",
    "        break\n",
    "\n",
    "    centroids = new_centroids  # Update centroids\n",
    "\n",
    "print(\"\\nFinal Centroids:\", centroids)\n"
   ]
  },
  {
   "cell_type": "code",
   "execution_count": 5,
   "metadata": {},
   "outputs": [
    {
     "data": {
      "image/png": "[encoded data removed]",
      "text/plain": [
       "<Figure size 800x600 with 1 Axes>"
      ]
     },
     "metadata": {},
     "output_type": "display_data"
    }
   ],
   "source": [
    "# Optional: Plot final clusters\n",
    "colors = ['r', 'g', 'b']\n",
    "plt.figure(figsize=(8, 6))\n",
    "for cluster_idx, cluster_points in clusters.items():\n",
    "    cluster_data = points[cluster_points]\n",
    "    plt.scatter(cluster_data[:, 0], cluster_data[:, 1], label=f\"Cluster {cluster_idx + 1}\", color=colors[cluster_idx])\n",
    "plt.scatter(centroids[:, 0], centroids[:, 1], color='k', marker='x', s=200, label=\"Centroids\")\n",
    "plt.title(\"K-means Clustering Results\")\n",
    "plt.xlabel(\"X-coordinate\")\n",
    "plt.ylabel(\"Y-coordinate\")\n",
    "plt.legend()\n",
    "plt.show()\n"
   ]
  }
 ],
 "metadata": {
  "kernelspec": {
   "display_name": "env_ML",
   "language": "python",
   "name": "python3"
  },
  "language_info": {
   "codemirror_mode": {
    "name": "ipython",
    "version": 3
   },
   "file_extension": ".py",
   "mimetype": "text/x-python",
   "name": "python",
   "nbconvert_exporter": "python",
   "pygments_lexer": "ipython3",
   "version": "3.12.7"
  }
 },
 "nbformat": 4,
 "nbformat_minor": 2
}
