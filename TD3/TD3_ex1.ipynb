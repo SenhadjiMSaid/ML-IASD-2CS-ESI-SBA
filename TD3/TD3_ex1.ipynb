{
 "cells": [
  {
   "cell_type": "markdown",
   "metadata": {},
   "source": [
    "# TD3\n"
   ]
  },
  {
   "cell_type": "markdown",
   "metadata": {},
   "source": [
    "## Exercise 1: HAC (Hierarchical Agglomerative Clustering)\n",
    "\n",
    "$ A=(2,5),B=(3,4),C=(5,8),D=(6,2),E=(7,3). $ <br>\n",
    "We'll compute the clusters for each method: **single-link**, **complete-link**, **average-link**, and **centroid-link**.\n"
   ]
  },
  {
   "cell_type": "code",
   "execution_count": 24,
   "metadata": {},
   "outputs": [],
   "source": [
    "import numpy as np\n",
    "from scipy.spatial.distance import euclidean\n",
    "from scipy.cluster.hierarchy import linkage, dendrogram\n",
    "import matplotlib.pyplot as plt\n",
    "\n",
    "# Points\n",
    "points = {\n",
    "    \"A\": (2, 5),\n",
    "    \"B\": (3, 4),\n",
    "    \"C\": (5, 8),\n",
    "    \"D\": (6, 2),\n",
    "    \"E\": (7, 3)\n",
    "}\n",
    "\n",
    "clusters = {name: [name] for name in points}"
   ]
  },
  {
   "cell_type": "markdown",
   "metadata": {},
   "source": [
    "\n",
    "#### 1. Compute the Distance Matrix\n",
    "**The Euclidean distance between two points**\n",
    "$$ \\text{distance} = \\sqrt{(x_2-x_1)²+(x_2-x_1)²} $$\n",
    "\n",
    "**Distance Matrix:**\n",
    "$$ \\begin{pmatrix}\n",
    "0 & 1.41  & 4.24  & 5.39 & 5.83 \\\\\n",
    " & 0 & 3.61 & 4.24 & 4.47 \\\\\n",
    " &  & 0 & 6.40 & 6.08 \\\\\n",
    " &  &  & 0 & 1.41 \\\\\n",
    " &  &  &  & 0\n",
    "\\end{pmatrix} $$\n",
    "\n"
   ]
  },
  {
   "cell_type": "code",
   "execution_count": 5,
   "metadata": {},
   "outputs": [],
   "source": [
    "def calculate_distance_matrix(points, clusters):\n",
    "    distances = {}\n",
    "    for c1 in clusters:\n",
    "        for c2 in clusters:\n",
    "            if c1 != c2:\n",
    "                # Single-link: Minimum distance between any points in the two clusters\n",
    "                min_dist = min(\n",
    "                    euclidean(points[p1], points[p2])\n",
    "                    for p1 in clusters[c1] for p2 in clusters[c2]\n",
    "                )\n",
    "                distances[(c1, c2)] = min_dist\n",
    "    return distances"
   ]
  },
  {
   "cell_type": "markdown",
   "metadata": {},
   "source": [
    "#### **Single-Link Clustering**: \n",
    "For single-link, the distance between clusters is the smallest distance between points in two clusters. <br>\n",
    "Steps: <br>\n",
    "  1. Find the smallest distance in the matrix (1.41 between $A$ and $B$). Merge $A$ and $B$ into $\\left\\{ A, B \\right\\}$\n",
    "  2. Recompute distances for $\\left\\{ A, B \\right\\}$ with remaining points using the smallest distance.\n",
    "  3. Repeat until all points are clustered."
   ]
  },
  {
   "cell_type": "code",
   "execution_count": 6,
   "metadata": {},
   "outputs": [
    {
     "name": "stdout",
     "output_type": "stream",
     "text": [
      "for 1 iteration \n",
      " {('A', 'B'): np.float64(1.4142135623730951), ('A', 'C'): np.float64(4.242640687119285), ('A', 'D'): np.float64(5.0), ('A', 'E'): np.float64(5.385164807134504), ('B', 'A'): np.float64(1.4142135623730951), ('B', 'C'): np.float64(4.47213595499958), ('B', 'D'): np.float64(3.605551275463989), ('B', 'E'): np.float64(4.123105625617661), ('C', 'A'): np.float64(4.242640687119285), ('C', 'B'): np.float64(4.47213595499958), ('C', 'D'): np.float64(6.082762530298219), ('C', 'E'): np.float64(5.385164807134504), ('D', 'A'): np.float64(5.0), ('D', 'B'): np.float64(3.605551275463989), ('D', 'C'): np.float64(6.082762530298219), ('D', 'E'): np.float64(1.4142135623730951), ('E', 'A'): np.float64(5.385164807134504), ('E', 'B'): np.float64(4.123105625617661), ('E', 'C'): np.float64(5.385164807134504), ('E', 'D'): np.float64(1.4142135623730951)}\n",
      "Merged A and B -> New Cluster: ['A', 'B'] | Distance: 1.41\n",
      "for 2 iteration \n",
      " {('A', 'C'): np.float64(4.242640687119285), ('A', 'D'): np.float64(3.605551275463989), ('A', 'E'): np.float64(4.123105625617661), ('C', 'A'): np.float64(4.242640687119285), ('C', 'D'): np.float64(6.082762530298219), ('C', 'E'): np.float64(5.385164807134504), ('D', 'A'): np.float64(3.605551275463989), ('D', 'C'): np.float64(6.082762530298219), ('D', 'E'): np.float64(1.4142135623730951), ('E', 'A'): np.float64(4.123105625617661), ('E', 'C'): np.float64(5.385164807134504), ('E', 'D'): np.float64(1.4142135623730951)}\n",
      "Merged D and E -> New Cluster: ['D', 'E'] | Distance: 1.41\n",
      "for 3 iteration \n",
      " {('A', 'C'): np.float64(4.242640687119285), ('A', 'D'): np.float64(3.605551275463989), ('C', 'A'): np.float64(4.242640687119285), ('C', 'D'): np.float64(5.385164807134504), ('D', 'A'): np.float64(3.605551275463989), ('D', 'C'): np.float64(5.385164807134504)}\n",
      "Merged A and D -> New Cluster: ['A', 'B', 'D', 'E'] | Distance: 3.61\n",
      "for 4 iteration \n",
      " {('A', 'C'): np.float64(4.242640687119285), ('C', 'A'): np.float64(4.242640687119285)}\n",
      "Merged A and C -> New Cluster: ['A', 'B', 'D', 'E', 'C'] | Distance: 4.24\n",
      "\n",
      "Final Clusters: {'A': ['A', 'B', 'D', 'E', 'C']}\n"
     ]
    }
   ],
   "source": [
    "i = 0\n",
    "while len(clusters) > 1:\n",
    "    i +=1\n",
    "    distances = calculate_distance_matrix(points, clusters)\n",
    "    print(f'for {i} iteration \\n {distances}')\n",
    "    (c1, c2), min_dist = min(distances.items(), key=lambda x: x[1])\n",
    "\n",
    "    clusters[c1] += clusters[c2]  \n",
    "    del clusters[c2]  \n",
    "\n",
    "    print(f\"Merged {c1} and {c2} -> New Cluster: {clusters[c1]} | Distance: {min_dist:.2f}\")\n",
    "\n",
    "# Final clusters\n",
    "print(\"\\nFinal Clusters:\", clusters)"
   ]
  },
  {
   "cell_type": "markdown",
   "metadata": {},
   "source": []
  },
  {
   "cell_type": "markdown",
   "metadata": {},
   "source": [
    "#### HAC **Complete-Link Clustering**\n",
    "For **complete-link**, the distance between clusters is the largest distance between points in two clusters.\n",
    "1. Find the smallest maximum distance and merge clusters accordingly.\n",
    "2. Recompute distances using the largest distance between merged clusters and other points.\n",
    "3. Repeat."
   ]
  },
  {
   "cell_type": "code",
   "execution_count": 15,
   "metadata": {},
   "outputs": [],
   "source": [
    "def calculate_distance_matrix_complete(points, clusters):\n",
    "    distances = {}\n",
    "    for c1 in clusters:\n",
    "        for c2 in clusters:\n",
    "            if c1 != c2:\n",
    "                # Complete-link: Maximum distance between any points in the two clusters\n",
    "                max_dist = max(\n",
    "                    euclidean(points[p1], points[p2])\n",
    "                    for p1 in clusters[c1] for p2 in clusters[c2]\n",
    "                )\n",
    "                distances[(c1, c2)] = max_dist\n",
    "    return distances"
   ]
  },
  {
   "cell_type": "code",
   "execution_count": 16,
   "metadata": {},
   "outputs": [
    {
     "name": "stdout",
     "output_type": "stream",
     "text": [
      "for 1 iteration \n",
      " {('A', 'B'): np.float64(1.4142135623730951), ('A', 'C'): np.float64(4.242640687119285), ('A', 'D'): np.float64(5.0), ('A', 'E'): np.float64(5.385164807134504), ('B', 'A'): np.float64(1.4142135623730951), ('B', 'C'): np.float64(4.47213595499958), ('B', 'D'): np.float64(3.605551275463989), ('B', 'E'): np.float64(4.123105625617661), ('C', 'A'): np.float64(4.242640687119285), ('C', 'B'): np.float64(4.47213595499958), ('C', 'D'): np.float64(6.082762530298219), ('C', 'E'): np.float64(5.385164807134504), ('D', 'A'): np.float64(5.0), ('D', 'B'): np.float64(3.605551275463989), ('D', 'C'): np.float64(6.082762530298219), ('D', 'E'): np.float64(1.4142135623730951), ('E', 'A'): np.float64(5.385164807134504), ('E', 'B'): np.float64(4.123105625617661), ('E', 'C'): np.float64(5.385164807134504), ('E', 'D'): np.float64(1.4142135623730951)}\n",
      "Merged A and B -> New Cluster: ['A', 'B'] | Distance: 1.41\n",
      "for 2 iteration \n",
      " {('A', 'C'): np.float64(4.47213595499958), ('A', 'D'): np.float64(5.0), ('A', 'E'): np.float64(5.385164807134504), ('C', 'A'): np.float64(4.47213595499958), ('C', 'D'): np.float64(6.082762530298219), ('C', 'E'): np.float64(5.385164807134504), ('D', 'A'): np.float64(5.0), ('D', 'C'): np.float64(6.082762530298219), ('D', 'E'): np.float64(1.4142135623730951), ('E', 'A'): np.float64(5.385164807134504), ('E', 'C'): np.float64(5.385164807134504), ('E', 'D'): np.float64(1.4142135623730951)}\n",
      "Merged D and E -> New Cluster: ['D', 'E'] | Distance: 1.41\n",
      "for 3 iteration \n",
      " {('A', 'C'): np.float64(4.47213595499958), ('A', 'D'): np.float64(5.385164807134504), ('C', 'A'): np.float64(4.47213595499958), ('C', 'D'): np.float64(6.082762530298219), ('D', 'A'): np.float64(5.385164807134504), ('D', 'C'): np.float64(6.082762530298219)}\n",
      "Merged A and C -> New Cluster: ['A', 'B', 'C'] | Distance: 4.47\n",
      "for 4 iteration \n",
      " {('A', 'D'): np.float64(6.082762530298219), ('D', 'A'): np.float64(6.082762530298219)}\n",
      "Merged A and D -> New Cluster: ['A', 'B', 'C', 'D', 'E'] | Distance: 6.08\n",
      "\n",
      "Final Clusters: {'A': ['A', 'B', 'C', 'D', 'E']}\n"
     ]
    }
   ],
   "source": [
    "i = 0\n",
    "while len(clusters) > 1:\n",
    "    i +=1\n",
    "    distances = calculate_distance_matrix_complete(points, clusters)\n",
    "    print(f'for {i} iteration \\n {distances}')\n",
    "    (c1, c2), min_dist = min(distances.items(), key=lambda x: x[1])\n",
    "\n",
    "    clusters[c1] += clusters[c2]  \n",
    "    del clusters[c2]  \n",
    "\n",
    "    print(f\"Merged {c1} and {c2} -> New Cluster: {clusters[c1]} | Distance: {min_dist:.2f}\")\n",
    "\n",
    "# Final clusters\n",
    "print(\"\\nFinal Clusters:\", clusters)"
   ]
  },
  {
   "cell_type": "markdown",
   "metadata": {},
   "source": [
    "#### **Average-Link Clustering**\n",
    "For average-link, the distance between clusters is the average of all pairwise distances between points in two clusters\n",
    "1. Find and merge clusters with the smallest average distance.\n",
    "2. Recompute distances using averages between points.\n",
    "3. Repeat.\n"
   ]
  },
  {
   "cell_type": "code",
   "execution_count": 21,
   "metadata": {},
   "outputs": [],
   "source": [
    "def calculate_distance_matrix_avrg(points, clusters):\n",
    "    distances = {}\n",
    "    for c1 in clusters:\n",
    "        for c2 in clusters:\n",
    "            if c1 != c2:\n",
    "                # Average-link: Average distance between all points in the two clusters\n",
    "                avg_dist = np.mean([\n",
    "                    euclidean(points[p1], points[p2])\n",
    "                    for p1 in clusters[c1] for p2 in clusters[c2]\n",
    "                ])\n",
    "                distances[(c1, c2)] = avg_dist\n",
    "    return distances"
   ]
  },
  {
   "cell_type": "code",
   "execution_count": 22,
   "metadata": {},
   "outputs": [
    {
     "name": "stdout",
     "output_type": "stream",
     "text": [
      "for 1 iteration \n",
      " {('A', 'B'): np.float64(1.4142135623730951), ('A', 'C'): np.float64(4.242640687119285), ('A', 'D'): np.float64(5.0), ('A', 'E'): np.float64(5.385164807134504), ('B', 'A'): np.float64(1.4142135623730951), ('B', 'C'): np.float64(4.47213595499958), ('B', 'D'): np.float64(3.605551275463989), ('B', 'E'): np.float64(4.123105625617661), ('C', 'A'): np.float64(4.242640687119285), ('C', 'B'): np.float64(4.47213595499958), ('C', 'D'): np.float64(6.082762530298219), ('C', 'E'): np.float64(5.385164807134504), ('D', 'A'): np.float64(5.0), ('D', 'B'): np.float64(3.605551275463989), ('D', 'C'): np.float64(6.082762530298219), ('D', 'E'): np.float64(1.4142135623730951), ('E', 'A'): np.float64(5.385164807134504), ('E', 'B'): np.float64(4.123105625617661), ('E', 'C'): np.float64(5.385164807134504), ('E', 'D'): np.float64(1.4142135623730951)}\n",
      "Merged A and B -> New Cluster: ['A', 'B'] | Distance: 1.41\n",
      "for 2 iteration \n",
      " {('A', 'C'): np.float64(4.357388321059432), ('A', 'D'): np.float64(4.302775637731995), ('A', 'E'): np.float64(4.754135216376082), ('C', 'A'): np.float64(4.357388321059432), ('C', 'D'): np.float64(6.082762530298219), ('C', 'E'): np.float64(5.385164807134504), ('D', 'A'): np.float64(4.302775637731995), ('D', 'C'): np.float64(6.082762530298219), ('D', 'E'): np.float64(1.4142135623730951), ('E', 'A'): np.float64(4.754135216376082), ('E', 'C'): np.float64(5.385164807134504), ('E', 'D'): np.float64(1.4142135623730951)}\n",
      "Merged D and E -> New Cluster: ['D', 'E'] | Distance: 1.41\n",
      "for 3 iteration \n",
      " {('A', 'C'): np.float64(4.357388321059432), ('A', 'D'): np.float64(4.5284554270540385), ('C', 'A'): np.float64(4.357388321059432), ('C', 'D'): np.float64(5.7339636687163615), ('D', 'A'): np.float64(4.5284554270540385), ('D', 'C'): np.float64(5.7339636687163615)}\n",
      "Merged A and C -> New Cluster: ['A', 'B', 'C'] | Distance: 4.36\n",
      "for 4 iteration \n",
      " {('A', 'D'): np.float64(4.930291507608146), ('D', 'A'): np.float64(4.930291507608147)}\n",
      "Merged A and D -> New Cluster: ['A', 'B', 'C', 'D', 'E'] | Distance: 4.93\n",
      "\n",
      "Final Clusters: {'A': ['A', 'B', 'C', 'D', 'E']}\n"
     ]
    }
   ],
   "source": [
    "i = 0\n",
    "while len(clusters) > 1:\n",
    "    i+=1\n",
    "    distances = calculate_distance_matrix_avrg(points, clusters)\n",
    "\n",
    "    print(f'for {i} iteration \\n {distances}')\n",
    "    (c1, c2), min_dist = min(distances.items(), key=lambda x: x[1])\n",
    "\n",
    "\n",
    "    clusters[c1] += clusters[c2]  \n",
    "    del clusters[c2] \n",
    "\n",
    "    print(f\"Merged {c1} and {c2} -> New Cluster: {clusters[c1]} | Distance: {min_dist:.2f}\")\n",
    "\n",
    "# Final clusters\n",
    "print(\"\\nFinal Clusters:\", clusters)"
   ]
  },
  {
   "cell_type": "markdown",
   "metadata": {},
   "source": [
    "#### **5. Centroid-Link Clustering**\n",
    "1. Compute centroids of merged clusters.\n",
    "2. Find the smallest distance based on centroids and merge clusters.\n",
    "3. Repeat."
   ]
  },
  {
   "cell_type": "code",
   "execution_count": 25,
   "metadata": {},
   "outputs": [],
   "source": [
    "def calculate_centroid(cluster_points, points):\n",
    "    coords = np.mean([points[p] for p in cluster_points], axis=0)\n",
    "    return coords\n",
    "\n",
    "def calculate_distance_matrix_cent(points, clusters):\n",
    "    distances = {}\n",
    "    for c1 in clusters:\n",
    "        for c2 in clusters:\n",
    "            if c1 != c2:\n",
    "                # Centroid-link: Distance between centroids of the two clusters\n",
    "                centroid1 = calculate_centroid(clusters[c1], points)\n",
    "                centroid2 = calculate_centroid(clusters[c2], points)\n",
    "                distances[(c1, c2)] = euclidean(centroid1, centroid2)\n",
    "    return distances"
   ]
  },
  {
   "cell_type": "code",
   "execution_count": 26,
   "metadata": {},
   "outputs": [
    {
     "name": "stdout",
     "output_type": "stream",
     "text": [
      "for 1 iteration \n",
      " {('A', 'B'): 1.4142135623730951, ('A', 'C'): 4.242640687119285, ('A', 'D'): 5.0, ('A', 'E'): 5.385164807134504, ('B', 'A'): 1.4142135623730951, ('B', 'C'): 4.47213595499958, ('B', 'D'): 3.605551275463989, ('B', 'E'): 4.123105625617661, ('C', 'A'): 4.242640687119285, ('C', 'B'): 4.47213595499958, ('C', 'D'): 6.082762530298219, ('C', 'E'): 5.385164807134504, ('D', 'A'): 5.0, ('D', 'B'): 3.605551275463989, ('D', 'C'): 6.082762530298219, ('D', 'E'): 1.4142135623730951, ('E', 'A'): 5.385164807134504, ('E', 'B'): 4.123105625617661, ('E', 'C'): 5.385164807134504, ('E', 'D'): 1.4142135623730951}\n",
      "Merged A and B -> New Cluster: ['A', 'B'] | Distance: 1.41\n",
      "for 2 iteration \n",
      " {('A', 'C'): 4.301162633521313, ('A', 'D'): 4.301162633521313, ('A', 'E'): 4.743416490252569, ('C', 'A'): 4.301162633521313, ('C', 'D'): 6.082762530298219, ('C', 'E'): 5.385164807134504, ('D', 'A'): 4.301162633521313, ('D', 'C'): 6.082762530298219, ('D', 'E'): 1.4142135623730951, ('E', 'A'): 4.743416490252569, ('E', 'C'): 5.385164807134504, ('E', 'D'): 1.4142135623730951}\n",
      "Merged D and E -> New Cluster: ['D', 'E'] | Distance: 1.41\n",
      "for 3 iteration \n",
      " {('A', 'C'): 4.301162633521313, ('A', 'D'): 4.47213595499958, ('C', 'A'): 4.301162633521313, ('C', 'D'): 5.70087712549569, ('D', 'A'): 4.47213595499958, ('D', 'C'): 5.70087712549569}\n",
      "Merged A and C -> New Cluster: ['A', 'B', 'C'] | Distance: 4.30\n",
      "for 4 iteration \n",
      " {('A', 'D'): 4.478342947514801, ('D', 'A'): 4.478342947514801}\n",
      "Merged A and D -> New Cluster: ['A', 'B', 'C', 'D', 'E'] | Distance: 4.48\n"
     ]
    }
   ],
   "source": [
    "i = 0\n",
    "while len(clusters) > 1:\n",
    "    i += 1\n",
    "    distances = calculate_distance_matrix_cent(points, clusters)\n",
    "\n",
    "    print(f'for {i} iteration \\n {distances}')\n",
    "    (c1, c2), min_dist = min(distances.items(), key=lambda x: x[1])\n",
    "\n",
    "    clusters[c1] += clusters[c2]  # Add all points from c2 into c1\n",
    "    del clusters[c2]  # Remove c2\n",
    "\n",
    "    print(f\"Merged {c1} and {c2} -> New Cluster: {clusters[c1]} | Distance: {min_dist:.2f}\")"
   ]
  },
  {
   "cell_type": "markdown",
   "metadata": {},
   "source": [
    "#### Drow a dendrogram for each method"
   ]
  },
  {
   "cell_type": "code",
   "execution_count": 3,
   "metadata": {},
   "outputs": [
    {
     "data": {
      "image/png": "[encoded data removed]",
      "text/plain": [
       "<Figure size 1200x1000 with 4 Axes>"
      ]
     },
     "metadata": {},
     "output_type": "display_data"
    }
   ],
   "source": [
    "points_np = np.array([\n",
    "    [2, 5],  # A\n",
    "    [3, 4],  # B\n",
    "    [5, 8],  # C\n",
    "    [6, 2],  # D\n",
    "    [7, 3]   # E\n",
    "])\n",
    "\n",
    "# Linkage methods\n",
    "methods = ['single', 'complete', 'average', 'centroid']\n",
    "\n",
    "# Plot dendrograms for each method\n",
    "plt.figure(figsize=(12, 10))\n",
    "for i, method in enumerate(methods):\n",
    "    plt.subplot(2, 2, i + 1)\n",
    "    linked = linkage(points_np, method=method)\n",
    "    dendrogram(linked, labels=['A', 'B', 'C', 'D', 'E'])\n",
    "    plt.title(f'{method.capitalize()} Linkage')\n",
    "    plt.xlabel('Data Points')\n",
    "    plt.ylabel('Distance')\n",
    "\n",
    "plt.tight_layout()\n",
    "plt.show()"
   ]
  },
  {
   "cell_type": "markdown",
   "metadata": {},
   "source": [
    "#### Plot clusters for each linkage method\n"
   ]
  }
 ],
 "metadata": {
  "kernelspec": {
   "display_name": "env_ML",
   "language": "python",
   "name": "python3"
  },
  "language_info": {
   "codemirror_mode": {
    "name": "ipython",
    "version": 3
   },
   "file_extension": ".py",
   "mimetype": "text/x-python",
   "name": "python",
   "nbconvert_exporter": "python",
   "pygments_lexer": "ipython3",
   "version": "3.12.7"
  }
 },
 "nbformat": 4,
 "nbformat_minor": 2
}
