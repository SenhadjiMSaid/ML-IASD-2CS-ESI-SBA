{
 "cells": [
  {
   "cell_type": "code",
   "execution_count": 7,
   "metadata": {},
   "outputs": [],
   "source": [
    "import pandas as pd\n",
    "import numpy as np"
   ]
  },
  {
   "cell_type": "code",
   "execution_count": 8,
   "metadata": {},
   "outputs": [],
   "source": [
    "n_samples = 100"
   ]
  },
  {
   "cell_type": "code",
   "execution_count": 9,
   "metadata": {},
   "outputs": [],
   "source": [
    "years_experience = np.random.randint(1, 11, n_samples)\n",
    "# print(years_experience)"
   ]
  },
  {
   "cell_type": "code",
   "execution_count": 10,
   "metadata": {},
   "outputs": [],
   "source": [
    "base_salary = 2000\n",
    "random_bonus = np.random.randint(1, 401, n_samples)\n",
    "salaries = base_salary + 200 * years_experience + random_bonus\n",
    "# print(salaries)"
   ]
  },
  {
   "cell_type": "code",
   "execution_count": 11,
   "metadata": {},
   "outputs": [
    {
     "name": "stdout",
     "output_type": "stream",
     "text": [
      "    Years  Salary\n",
      "0       6    3316\n",
      "1       7    3640\n",
      "2       3    2900\n",
      "3      10    4268\n",
      "4       7    3676\n",
      "..    ...     ...\n",
      "95      9    4173\n",
      "96      6    3478\n",
      "97      7    3761\n",
      "98      4    2828\n",
      "99      1    2352\n",
      "\n",
      "[100 rows x 2 columns]\n"
     ]
    }
   ],
   "source": [
    "data = {\n",
    "  'Years': years_experience,\n",
    "  'Salary': salaries\n",
    "}\n",
    "\n",
    "data_frame = pd.DataFrame(data)\n",
    "\n",
    "print(data_frame)"
   ]
  },
  {
   "cell_type": "code",
   "execution_count": 12,
   "metadata": {},
   "outputs": [
    {
     "name": "stdout",
     "output_type": "stream",
     "text": [
      "Dataset saved to employee_salaries.csv\n"
     ]
    }
   ],
   "source": [
    "csv_filename = 'employee_salaries.csv'\n",
    "data_frame.to_csv(csv_filename, index=False)\n",
    "print(f\"Dataset saved to {csv_filename}\")"
   ]
  }
 ],
 "metadata": {
  "kernelspec": {
   "display_name": "base",
   "language": "python",
   "name": "python3"
  },
  "language_info": {
   "codemirror_mode": {
    "name": "ipython",
    "version": 3
   },
   "file_extension": ".py",
   "mimetype": "text/x-python",
   "name": "python",
   "nbconvert_exporter": "python",
   "pygments_lexer": "ipython3",
   "version": "3.12.4"
  }
 },
 "nbformat": 4,
 "nbformat_minor": 2
}
