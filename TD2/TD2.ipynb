{
 "cells": [
  {
   "cell_type": "markdown",
   "metadata": {},
   "source": [
    "# TD2"
   ]
  },
  {
   "cell_type": "markdown",
   "metadata": {},
   "source": [
    "## Exercice 3\n",
    "Plot:\n"
   ]
  },
  {
   "cell_type": "code",
   "execution_count": 2,
   "metadata": {},
   "outputs": [
    {
     "data": {
      "text/html": [
       "<div>\n",
       "<style scoped>\n",
       "    .dataframe tbody tr th:only-of-type {\n",
       "        vertical-align: middle;\n",
       "    }\n",
       "\n",
       "    .dataframe tbody tr th {\n",
       "        vertical-align: top;\n",
       "    }\n",
       "\n",
       "    .dataframe thead th {\n",
       "        text-align: right;\n",
       "    }\n",
       "</style>\n",
       "<table border=\"1\" class=\"dataframe\">\n",
       "  <thead>\n",
       "    <tr style=\"text-align: right;\">\n",
       "      <th></th>\n",
       "      <th>age</th>\n",
       "      <th>cholestrol</th>\n",
       "      <th>stroke</th>\n",
       "    </tr>\n",
       "  </thead>\n",
       "  <tbody>\n",
       "    <tr>\n",
       "      <th>0</th>\n",
       "      <td>2.0</td>\n",
       "      <td>1.0</td>\n",
       "      <td>0</td>\n",
       "    </tr>\n",
       "    <tr>\n",
       "      <th>1</th>\n",
       "      <td>4.0</td>\n",
       "      <td>1.5</td>\n",
       "      <td>1</td>\n",
       "    </tr>\n",
       "    <tr>\n",
       "      <th>2</th>\n",
       "      <td>3.0</td>\n",
       "      <td>1.0</td>\n",
       "      <td>0</td>\n",
       "    </tr>\n",
       "    <tr>\n",
       "      <th>3</th>\n",
       "      <td>3.5</td>\n",
       "      <td>0.5</td>\n",
       "      <td>0</td>\n",
       "    </tr>\n",
       "    <tr>\n",
       "      <th>4</th>\n",
       "      <td>2.0</td>\n",
       "      <td>0.5</td>\n",
       "      <td>0</td>\n",
       "    </tr>\n",
       "    <tr>\n",
       "      <th>5</th>\n",
       "      <td>2.0</td>\n",
       "      <td>0.5</td>\n",
       "      <td>0</td>\n",
       "    </tr>\n",
       "    <tr>\n",
       "      <th>6</th>\n",
       "      <td>5.5</td>\n",
       "      <td>1.0</td>\n",
       "      <td>1</td>\n",
       "    </tr>\n",
       "    <tr>\n",
       "      <th>7</th>\n",
       "      <td>1.0</td>\n",
       "      <td>1.0</td>\n",
       "      <td>0</td>\n",
       "    </tr>\n",
       "  </tbody>\n",
       "</table>\n",
       "</div>"
      ],
      "text/plain": [
       "   age  cholestrol  stroke\n",
       "0  2.0         1.0       0\n",
       "1  4.0         1.5       1\n",
       "2  3.0         1.0       0\n",
       "3  3.5         0.5       0\n",
       "4  2.0         0.5       0\n",
       "5  2.0         0.5       0\n",
       "6  5.5         1.0       1\n",
       "7  1.0         1.0       0"
      ]
     },
     "execution_count": 2,
     "metadata": {},
     "output_type": "execute_result"
    }
   ],
   "source": [
    "import pandas as pd # type: ignore\n",
    "dataset = pd.read_csv('ex3.csv')\n",
    "dataset.head(10)"
   ]
  },
  {
   "cell_type": "code",
   "execution_count": 3,
   "metadata": {},
   "outputs": [
    {
     "data": {
      "text/html": [
       "<style type=\"text/css\">\n",
       "#T_7d9c3_row0_col0, #T_7d9c3_row1_col1, #T_7d9c3_row2_col2 {\n",
       "  background-color: #b40426;\n",
       "  color: #f1f1f1;\n",
       "}\n",
       "#T_7d9c3_row0_col1, #T_7d9c3_row1_col0, #T_7d9c3_row1_col2 {\n",
       "  background-color: #3b4cc0;\n",
       "  color: #f1f1f1;\n",
       "}\n",
       "#T_7d9c3_row0_col2 {\n",
       "  background-color: #cdd9ec;\n",
       "  color: #000000;\n",
       "}\n",
       "#T_7d9c3_row2_col0 {\n",
       "  background-color: #f7a688;\n",
       "  color: #000000;\n",
       "}\n",
       "#T_7d9c3_row2_col1 {\n",
       "  background-color: #dbdcde;\n",
       "  color: #000000;\n",
       "}\n",
       "</style>\n",
       "<table id=\"T_7d9c3\">\n",
       "  <thead>\n",
       "    <tr>\n",
       "      <th class=\"blank level0\" >&nbsp;</th>\n",
       "      <th id=\"T_7d9c3_level0_col0\" class=\"col_heading level0 col0\" >age</th>\n",
       "      <th id=\"T_7d9c3_level0_col1\" class=\"col_heading level0 col1\" >cholestrol</th>\n",
       "      <th id=\"T_7d9c3_level0_col2\" class=\"col_heading level0 col2\" >stroke</th>\n",
       "    </tr>\n",
       "  </thead>\n",
       "  <tbody>\n",
       "    <tr>\n",
       "      <th id=\"T_7d9c3_level0_row0\" class=\"row_heading level0 row0\" >age</th>\n",
       "      <td id=\"T_7d9c3_row0_col0\" class=\"data row0 col0\" >1.00</td>\n",
       "      <td id=\"T_7d9c3_row0_col1\" class=\"data row0 col1\" >0.32</td>\n",
       "      <td id=\"T_7d9c3_row0_col2\" class=\"data row0 col2\" >0.81</td>\n",
       "    </tr>\n",
       "    <tr>\n",
       "      <th id=\"T_7d9c3_level0_row1\" class=\"row_heading level0 row1\" >cholestrol</th>\n",
       "      <td id=\"T_7d9c3_row1_col0\" class=\"data row1 col0\" >0.32</td>\n",
       "      <td id=\"T_7d9c3_row1_col1\" class=\"data row1 col1\" >1.00</td>\n",
       "      <td id=\"T_7d9c3_row1_col2\" class=\"data row1 col2\" >0.65</td>\n",
       "    </tr>\n",
       "    <tr>\n",
       "      <th id=\"T_7d9c3_level0_row2\" class=\"row_heading level0 row2\" >stroke</th>\n",
       "      <td id=\"T_7d9c3_row2_col0\" class=\"data row2 col0\" >0.81</td>\n",
       "      <td id=\"T_7d9c3_row2_col1\" class=\"data row2 col1\" >0.65</td>\n",
       "      <td id=\"T_7d9c3_row2_col2\" class=\"data row2 col2\" >1.00</td>\n",
       "    </tr>\n",
       "  </tbody>\n",
       "</table>\n"
      ],
      "text/plain": [
       "<pandas.io.formats.style.Styler at 0x23cfd5fe930>"
      ]
     },
     "execution_count": 3,
     "metadata": {},
     "output_type": "execute_result"
    }
   ],
   "source": [
    "dataset_corr = dataset.corr()\n",
    "dataset_corr.style.background_gradient(cmap='coolwarm').format(precision=2)"
   ]
  },
  {
   "cell_type": "code",
   "execution_count": 12,
   "metadata": {},
   "outputs": [
    {
     "data": {
      "image/png": "[encoded data removed]",
      "text/plain": [
       "<Figure size 800x600 with 1 Axes>"
      ]
     },
     "metadata": {},
     "output_type": "display_data"
    }
   ],
   "source": [
    "import matplotlib.pyplot as plt\n",
    "\n",
    "# Define the dataset\n",
    "x1 = [2.0, 3.0, 5.0, 6.0]  # Feature 1 (x1)\n",
    "x2 = [3.0, 4.0, 1.0, 2.0]  # Feature 2 (x2)\n",
    "y = [0, 0, 1, 1]           # Class labels\n",
    "\n",
    "# Separate the data points by class\n",
    "x1_class0 = [x1[i] for i in range(len(y)) if y[i] == 0]\n",
    "x2_class0 = [x2[i] for i in range(len(y)) if y[i] == 0]\n",
    "\n",
    "x1_class1 = [x1[i] for i in range(len(y)) if y[i] == 1]\n",
    "x2_class1 = [x2[i] for i in range(len(y)) if y[i] == 1]\n",
    "\n",
    "# Plot the data\n",
    "plt.figure(figsize=(8, 6))\n",
    "plt.scatter(x1_class0, x2_class0, color='blue', label='Class 0 (y = 0)', marker='o')\n",
    "plt.scatter(x1_class1, x2_class1, color='red', label='Class 1 (y = 1)', marker='x')\n",
    "\n",
    "# Add labels and title\n",
    "plt.xlabel('Feature 1 (x1)')\n",
    "plt.ylabel('Feature 2 (x2)')\n",
    "plt.title('Scatter Plot of the Data')\n",
    "plt.legend()\n",
    "plt.grid(True)\n",
    "\n",
    "# Show the plot\n",
    "plt.show()\n"
   ]
  }
 ],
 "metadata": {
  "kernelspec": {
   "display_name": "env_ML",
   "language": "python",
   "name": "python3"
  },
  "language_info": {
   "codemirror_mode": {
    "name": "ipython",
    "version": 3
   },
   "file_extension": ".py",
   "mimetype": "text/x-python",
   "name": "python",
   "nbconvert_exporter": "python",
   "pygments_lexer": "ipython3",
   "version": "3.12.7"
  }
 },
 "nbformat": 4,
 "nbformat_minor": 2
}
