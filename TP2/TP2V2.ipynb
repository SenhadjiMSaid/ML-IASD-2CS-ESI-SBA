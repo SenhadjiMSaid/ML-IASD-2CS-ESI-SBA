{
 "cells": [
  {
   "cell_type": "markdown",
   "id": "d47853e9-aa32-4351-94d8-dca4457169e5",
   "metadata": {},
   "source": [
    "# Dataset visualisation and  cleaning"
   ]
  },
  {
   "cell_type": "markdown",
   "id": "97547325-e28b-4285-b289-b10192d20da0",
   "metadata": {},
   "source": [
    "<div class=\"alert alert-block alert-success\">\n",
    "<b> Data cleaning </b> can be a tedious task. \n",
    "According to IBM Data Analytics you can expect to spend up to 80% of your time cleaning data. ok.\n",
    "</div>"
   ]
  },
  {
   "cell_type": "markdown",
   "id": "dfc92bc9-beac-40f5-aade-7d637e6bf819",
   "metadata": {},
   "source": [
    "## Dataset description and visualisation"
   ]
  },
  {
   "cell_type": "markdown",
   "id": "75d03d02-31e8-4200-abdb-5a54fd8f4497",
   "metadata": {},
   "source": [
    "<div class=\"alert alert-block alert-success\">\n",
    "Data visualization is an essential aspect of data analysis that focuses on visually representing data. It provides a visual summary that aids in\n",
    "processing and understanding information through images, maps, and graphs, simplifying observation, analysis, and comprehension. This is\n",
    "particularly beneficial for large datasets, where manual processing can be tedious. Moreover, it helps highlight trends, patterns, and outliers.\n",
    "Python offers a variety of libraries for data visualization, including Plotly, Matplotlib, and Seaborn.\n",
    "</div>"
   ]
  },
  {
   "cell_type": "markdown",
   "id": "e915f600-afd8-4240-96b5-2fb2114eedaa",
   "metadata": {},
   "source": [
    "<div class=\"alert alert-block alert-warning\">Hepatitis is an inflammation of the liver. Most hepatitis patients are often asymptomatic. The Hepatitis dataset contains records of hepatitis cases in individuals and predicts patient survivability. For more details on this dataset, visit: https://archive.ics.\n",
    "uci.edu/dataset/46/hepatitis <div>"
   ]
  },
  {
   "cell_type": "markdown",
   "id": "013af542-2d44-4eb7-bba7-69cb69c3f98a",
   "metadata": {},
   "source": [
    "<div class=\"alert alert-block alert-danger\">\n",
    "    \n",
    "1. Import the Hepatitis dataset \n",
    "2. Print the first 10 samples\n",
    "3. Print 3 random samples\n",
    "4. Print the last 5 samples\n",
    "5. Display the following information about the dataset: columns, number of missing values in each column, and the type of features, all in one instruction.\n",
    "5. Display only the columns and their types (whether they are numerical or categorical).\n",
    "6. Display the number of samples and features.\n",
    "7. Display statistics for all numerical features: count, mean, standard deviation, quantiles, minimum, and maximum values.\n",
    "8. Verify if the dataset is balanced using a count and a plot.\n",
    "9. Using the pandas library, perform a line plot, histogram, and box plot for continuous values only. In the line plot, why is the line graph of the\n",
    "feature ”protime” not continuous?\n",
    "<\\div>"
   ]
  },
  {
   "cell_type": "markdown",
   "id": "007a04a3-0074-45f8-b4c9-1345061e29c0",
   "metadata": {},
   "source": [
    "<b>A standard deviation (or σ) </b> is a measure of how dispersed the data is in relation to the mean.\n",
    "\n",
    "<b> The median </b> is the middle value in a list ordered from smallest to largest.\n",
    "\n",
    "<b> 25%, 50%, and 75% </b> present the Q1, Median, and Q3 values. \n",
    "![title](fig1.png)"
   ]
  },
  {
   "cell_type": "markdown",
   "id": "f719dcbe-b8a3-4e4b-8ae9-9b14f5f014eb",
   "metadata": {},
   "source": [
    "## Dataset cleaning"
   ]
  },
  {
   "cell_type": "markdown",
   "id": "743f8280-0ef8-400e-82e4-12ede886c77f",
   "metadata": {},
   "source": [
    "<div class=\"alert alert-block alert-success\">\n",
    "Data cleaning is a crucial step in the machine learning process for optimal algorithm performance. It involves identifying and correcting issues such as missing values, duplicates, and irrelevant data to ensure accurate, consistent, high-quality, and error-free datasets. Common techniques used in data cleaning include handling missing values, removing duplicates, data type conversion, and outlier detection.\n",
    "</div>"
   ]
  },
  {
   "cell_type": "markdown",
   "id": "d4179cfd-0417-4aea-8d9e-a033eed3dc15",
   "metadata": {},
   "source": [
    "### Missing values"
   ]
  },
  {
   "cell_type": "markdown",
   "id": "0448f42d-52d4-44e7-9bbb-48b3a8218f9d",
   "metadata": {},
   "source": [
    "<div class=\"alert alert-block alert-success\">\n",
    "Handling missing data is a critical aspect of data preprocessing in machine learning. Effective strategies include imputing missing values\n",
    "using statistical methods, removing records with missing values, or employing advanced imputation techniques. Each approach has its advantages and limitations, and choosing the right method is essential\n",
    "for preventing biases and maintaining the integrity of analyses.\n",
    "</div>"
   ]
  },
  {
   "cell_type": "markdown",
   "id": "080f02be-fa14-4870-8850-1f6b55be1432",
   "metadata": {},
   "source": [
    "<div class=\"alert alert-block alert-danger\"> \n",
    "    \n",
    "1. Why is data missing? \n",
    "2. Print all samples that contain missing values.\n",
    "3. Print features that contain missing values.\n",
    "5. Print samples with features that contain missing values.\n",
    "6. Identify the number of missing values in each feature.\n",
    "7. Create a new dataframe from the first one and drop samples containing\n",
    "missing values.\n",
    "8. Create a new dataframe from the first one and delete columns contain-ing missing values. Is deleting missing values a solution?\n",
    "9. Replace missing values using the mean (for continuous values) or mode (for categorical values) and print the number of missing values after imputation.\n",
    "<div/>"
   ]
  },
  {
   "cell_type": "markdown",
   "id": "fc230df2-b67b-457d-a0d1-e421d0605836",
   "metadata": {},
   "source": [
    "### Outliers"
   ]
  },
  {
   "cell_type": "markdown",
   "id": "7ddeb72a-95f1-4122-a3ca-cb3c8a8dbe5a",
   "metadata": {},
   "source": [
    "<div class=\"alert alert-block alert-success\">\n",
    "Outliers are data points that significantly deviate from the norm and can arise from various causes, including errors, anomalies, or data variability. Their presence can negatively impact the performance of machine learning models, making it essential to manage outliers for obtaining accurate results. To address outliers, it is important to identify and manage them effectively by either deciding whether to remove them or transforming them to minimize their impact on analysis.\n",
    "<div/>"
   ]
  },
  {
   "cell_type": "markdown",
   "id": "82826299-6f37-4d9e-a9dd-bcb8d91eda06",
   "metadata": {},
   "source": [
    "<div class=\"alert alert-block alert-danger\">\n",
    "\n",
    "1. Find outliers in the data using box plots and the Interquar-\n",
    "tile Range.\n",
    "2. Compute the Interquartile Range (IQR), upper and lower bounds for\n",
    "both the alkaline phosphate and bilirubin features, and detect outliers.\n",
    "3. Handle outliers using an automatic method (not mean or median).\n",
    "<div/>"
   ]
  },
  {
   "cell_type": "code",
   "execution_count": 7,
   "id": "1e429c66",
   "metadata": {},
   "outputs": [],
   "source": [
    "import pandas as pd\n",
    "df = pd.read_csv('hepatitis.csv')"
   ]
  },
  {
   "cell_type": "markdown",
   "id": "a7722ffe",
   "metadata": {},
   "source": [
    "#### 1. Find outliers in the data using box plots\n"
   ]
  },
  {
   "cell_type": "code",
   "execution_count": 6,
   "id": "a289cbad",
   "metadata": {},
   "outputs": [
    {
     "data": {
      "text/plain": [
       "<Axes: >"
      ]
     },
     "execution_count": 6,
     "metadata": {},
     "output_type": "execute_result"
    },
    {
     "data": {
      "image/png": "[encoded data removed]",
      "text/plain": [
       "<Figure size 640x480 with 1 Axes>"
      ]
     },
     "metadata": {},
     "output_type": "display_data"
    }
   ],
   "source": [
    "import matplotlib.pyplot as plt\n",
    "df.plot(kind =\"box\")"
   ]
  },
  {
   "cell_type": "markdown",
   "id": "8b8b474a",
   "metadata": {
    "slideshow": {
     "slide_type": "notes"
    },
    "tags": [
     "parameters"
    ]
   },
   "source": [
    "Detecting Outliers Using Z-Score : \n",
    "\n",
    "**Z-Score Formula:**\n",
    "\n",
    "$$\n",
    "Z = \\frac{(X - \\mu)}{\\sigma}\n",
    "$$\n",
    "\n",
    "Where:\n",
    "- $Z$ is the Z-score,\n",
    "- $X$ is the data point,\n",
    "- $\\mu$ is the mean of the dataset,\n",
    "- $\\sigma$ is the standard deviation of the dataset.\n"
   ]
  },
  {
   "cell_type": "code",
   "execution_count": 11,
   "id": "b22e0d9b",
   "metadata": {},
   "outputs": [
    {
     "name": "stdout",
     "output_type": "stream",
     "text": [
      "Empty DataFrame\n",
      "Columns: [age, sex, steroid, antivirals, fatigue, malaise, anorexia, liver_big, liver_firm, spleen_palpable, spiders, ascites, varices, bilirubin, alk_phosphate, sgot, albumin, protime, histology, class]\n",
      "Index: []\n"
     ]
    }
   ],
   "source": [
    "from scipy import stats\n",
    "\n",
    "# Create a DataFrame to store the Z-scores\n",
    "z_scores = pd.DataFrame()\n",
    "\n",
    "# Calculate Z-scores for each numerical column\n",
    "for column in df.select_dtypes(include=['float64', 'int64']).columns:\n",
    "    z_scores[column] = stats.zscore(df[column])\n",
    "\n",
    "# Define the threshold (commonly |Z| > 3 is considered an outlier)\n",
    "threshold = 3\n",
    "\n",
    "# Find outliers\n",
    "outliers = (z_scores.abs() > threshold).any(axis=1)\n",
    "\n",
    "# Display rows that are considered outliers\n",
    "outlier_rows = df[outliers]\n",
    "print(outlier_rows)\n"
   ]
  },
  {
   "cell_type": "markdown",
   "id": "796e8dd6",
   "metadata": {},
   "source": [
    "#### 2. Compute the Interquartile Range (IQR), upper and lower bounds for both the alkaline phosphate and bilirubin features, and detect outliers.\n"
   ]
  },
  {
   "cell_type": "markdown",
   "id": "e5010887",
   "metadata": {},
   "source": [
    "**Interquartile Range (IQR), upper bound, and lower bound**\n",
    "1. Calculate the first quartile (Q1), which is the 25th percentile.\n",
    "2. Calculate the third quartile (Q3), which is the 75th percentile.\n",
    "3. Compute the IQR as:\n",
    " $$\n",
    " IQR = Q3 - Q1\n",
    " $$\n",
    "4. Determine the lower bound and upper bound using:\n",
    "$$\n",
    "Lower Bound=Q1−1.5×IQR\n",
    "$$\n",
    "$$Upper Bound=Q3+1.5×IQR$$"
   ]
  },
  {
   "cell_type": "code",
   "execution_count": 14,
   "id": "b7529ee8",
   "metadata": {},
   "outputs": [
    {
     "name": "stdout",
     "output_type": "stream",
     "text": [
      "\n",
      "For column: age\n",
      "Q1 (25th percentile): 32.0\n",
      "Q3 (75th percentile): 50.0\n",
      "IQR: 18.0\n",
      "Lower bound: 5.0\n",
      "Upper bound: 77.0\n",
      "Number of outliers: 1\n",
      "Outliers:\n",
      "   age\n",
      "2   78\n",
      "\n",
      "For column: bilirubin\n",
      "Q1 (25th percentile): 0.7\n",
      "Q3 (75th percentile): 1.5\n",
      "IQR: 0.8\n",
      "Lower bound: -0.5000000000000002\n",
      "Upper bound: 2.7\n",
      "Number of outliers: 17\n",
      "Outliers:\n",
      "     bilirubin\n",
      "41         4.6\n",
      "62         3.5\n",
      "67         4.1\n",
      "71         2.8\n",
      "91         4.6\n",
      "97         3.0\n",
      "100        4.8\n",
      "103        4.6\n",
      "115        3.2\n",
      "119        3.2\n",
      "120        2.9\n",
      "127        2.8\n",
      "129        4.6\n",
      "131        8.0\n",
      "141        3.9\n",
      "146        4.2\n",
      "150        7.6\n",
      "\n",
      "For column: alk_phosphate\n",
      "Q1 (25th percentile): 74.25\n",
      "Q3 (75th percentile): 132.25\n",
      "IQR: 58.0\n",
      "Lower bound: -12.75\n",
      "Upper bound: 219.25\n",
      "Number of outliers: 5\n",
      "Outliers:\n",
      "     alk_phosphate\n",
      "30           280.0\n",
      "90           230.0\n",
      "110          256.0\n",
      "134          243.0\n",
      "140          295.0\n",
      "\n",
      "For column: sgot\n",
      "Q1 (25th percentile): 31.5\n",
      "Q3 (75th percentile): 100.5\n",
      "IQR: 69.0\n",
      "Lower bound: -72.0\n",
      "Upper bound: 204.0\n",
      "Number of outliers: 13\n",
      "Outliers:\n",
      "      sgot\n",
      "11   249.0\n",
      "47   420.0\n",
      "72   271.0\n",
      "76   242.0\n",
      "81   224.0\n",
      "102  227.0\n",
      "103  269.0\n",
      "107  648.0\n",
      "108  225.0\n",
      "123  231.0\n",
      "132  278.0\n",
      "147  528.0\n",
      "150  242.0\n",
      "\n",
      "For column: albumin\n",
      "Q1 (25th percentile): 3.4\n",
      "Q3 (75th percentile): 4.2\n",
      "IQR: 0.8000000000000003\n",
      "Lower bound: 2.1999999999999993\n",
      "Upper bound: 5.4\n",
      "Number of outliers: 2\n",
      "Outliers:\n",
      "     albumin\n",
      "104      2.1\n",
      "105      6.4\n",
      "\n",
      "For column: protime\n",
      "Q1 (25th percentile): 46.0\n",
      "Q3 (75th percentile): 76.25\n",
      "IQR: 30.25\n",
      "Lower bound: 0.625\n",
      "Upper bound: 121.625\n",
      "Number of outliers: 1\n",
      "Outliers:\n",
      "     protime\n",
      "130      0.0\n"
     ]
    }
   ],
   "source": [
    "def compute_iqr_outliers(df, column):\n",
    "  # Calculate Q1 (25th percentile) and Q3 (75th percentile)\n",
    "  Q1 = df[column].quantile(0.25)\n",
    "  Q3 = df[column].quantile(0.75)\n",
    "    \n",
    "  # Calculate IQR\n",
    "  IQR = Q3 - Q1\n",
    "    \n",
    "  # Calculate lower bound and upper bound\n",
    "  lower_bound = Q1 - 1.5 * IQR\n",
    "  upper_bound = Q3 + 1.5 * IQR\n",
    "    \n",
    "    # Find outliers\n",
    "  outliers = df[(df[column] < lower_bound) | (df[column] > upper_bound)]\n",
    "    \n",
    "  print(f\"\\nFor column: {column}\")\n",
    "  print(f\"Q1 (25th percentile): {Q1}\")\n",
    "  print(f\"Q3 (75th percentile): {Q3}\")\n",
    "  print(f\"IQR: {IQR}\")\n",
    "  print(f\"Lower bound: {lower_bound}\")\n",
    "  print(f\"Upper bound: {upper_bound}\")\n",
    "  print(f\"Number of outliers: {outliers.shape[0]}\")\n",
    "  print(f\"Outliers:\\n{outliers[[column]]}\")\n",
    "    \n",
    "  return lower_bound, upper_bound, outliers\n",
    "\n",
    "for column in df.select_dtypes(include=['float64', 'int64']).columns:\n",
    "  lower_bound, upper_bound, outliers = compute_iqr_outliers(df, column)"
   ]
  },
  {
   "cell_type": "markdown",
   "id": "3b171dc9",
   "metadata": {},
   "source": [
    "#### 3. Handle outliers using an automatic method (not mean or median)."
   ]
  },
  {
   "cell_type": "markdown",
   "id": "4a7ffdc8-b70d-4c5b-84d8-c1f72128ba1d",
   "metadata": {},
   "source": [
    "## Study of correlation and feature selection"
   ]
  },
  {
   "cell_type": "markdown",
   "id": "8524c7ec-9bc0-43d9-87e3-c6cf7b7d5aa7",
   "metadata": {},
   "source": [
    "<div class=\"alert alert-block alert-success\">\n",
    "Feature selection is a crucial process in machine learning that involves\n",
    "automatically identifying the most relevant features in a dataset that\n",
    "contribute to the decision-making process. Including irrelevant and\n",
    "highly correlated features can lead to decreased accuracy. This process\n",
    "also helps to manage high-dimensional data by reducing overfitting,\n",
    "enhancing model accuracy, and decreasing training time.\n",
    "<div/>"
   ]
  },
  {
   "cell_type": "markdown",
   "id": "1c2d8246-172c-4195-8013-cbaa89b82694",
   "metadata": {},
   "source": [
    "<div class=\"alert alert-block alert-danger\"> \n",
    "\n",
    "1. Drop the feature ”Sex”.\n",
    "2. Plot the Pearson correlation heatmap to observe the correlation of in-\n",
    "dependent variables with the output variable.\n",
    "3. Only select features that have an absolute correlation above 0.5 with\n",
    "the output variable.\n",
    "4. Drop the features that are highly correlated with malaise.\n",
    "5. Should features be correlated?\n",
    "<div/>"
   ]
  },
  {
   "cell_type": "markdown",
   "id": "2a3f62a7-9bb7-4612-aa2e-bc6297437074",
   "metadata": {},
   "source": [
    "## Data splitting"
   ]
  },
  {
   "cell_type": "markdown",
   "id": "73533366-3367-4a3e-8d6a-db3fa98fdae7",
   "metadata": {},
   "source": [
    "<div class=\"alert alert-block alert-success\">\n",
    "Data splitting is the process of dividing a dataset into two or more subsets, typically comprising a training set and a testing set. This ensures that models are trained on one subset of the data (training set) while being evaluated on another (test set), which helps effectively assess their performance and improve generalization. In Python, the scikit-learn library is a popular choice for implementing data splitting, offering various functions and classes to facilitate this essential process.\n",
    "<div/>"
   ]
  },
  {
   "cell_type": "markdown",
   "id": "a950be8c-fabf-416d-9000-4c3730a4dd8f",
   "metadata": {},
   "source": [
    "<div class=\"alert alert-block alert-danger\">\n",
    "\n",
    "1. Split the data into training and test sets using the hold-out and strat-\n",
    "ified hold-out strategies.\n",
    "2. Display the number of samples in each class for both strategies in the\n",
    "training and test sets.\n",
    "<div/>"
   ]
  }
 ],
 "metadata": {
  "kernelspec": {
   "display_name": "base",
   "language": "python",
   "name": "python3"
  },
  "language_info": {
   "codemirror_mode": {
    "name": "ipython",
    "version": 3
   },
   "file_extension": ".py",
   "mimetype": "text/x-python",
   "name": "python",
   "nbconvert_exporter": "python",
   "pygments_lexer": "ipython3",
   "version": "3.12.4"
  }
 },
 "nbformat": 4,
 "nbformat_minor": 5
}
